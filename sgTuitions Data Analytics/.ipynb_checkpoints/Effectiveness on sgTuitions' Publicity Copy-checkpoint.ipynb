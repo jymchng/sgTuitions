{
 "cells": [
  {
   "cell_type": "code",
   "execution_count": 1,
   "metadata": {
    "ExecuteTime": {
     "end_time": "2021-03-11T12:19:19.037458Z",
     "start_time": "2021-03-11T12:19:13.344291Z"
    }
   },
   "outputs": [
    {
     "name": "stderr",
     "output_type": "stream",
     "text": [
      "WARNING (theano.configdefaults): g++ not available, if using conda: `conda install m2w64-toolchain`\n",
      "WARNING (theano.configdefaults): g++ not detected ! Theano will be unable to execute optimized C-implementations (for both CPU and GPU) and will default to Python implementations. Performance will be severely degraded. To remove this warning, set Theano flags cxx to an empty string.\n",
      "WARNING (theano.tensor.blas): Using NumPy C-API based implementation for BLAS functions.\n"
     ]
    }
   ],
   "source": [
    "import pandas as pd \n",
    "import numpy as np\n",
    "import matplotlib as mpl\n",
    "import matplotlib.pyplot as plt \n",
    "import datetime \n",
    "import seaborn as sns\n",
    "import scipy.stats as stats\n",
    "import pymc3 as pm\n",
    "import theano.tensor as tt\n",
    "import arviz\n",
    "\n",
    "plt.rcParams['figure.figsize'] = (16,9)\n",
    "plt.rcParams['font.size'] = 15\n",
    "plt.rcParams['axes.grid'] = True\n",
    "plt.rcParams['axes.grid.axis'] = 'y'\n",
    "plt.rcParams['grid.alpha'] = 0.5\n",
    "mpl.rc('axes.spines',top=False,bottom=True,left=True,right=False)\n",
    "plt.rcParams['savefig.dpi'] = 300"
   ]
  },
  {
   "cell_type": "code",
   "execution_count": 2,
   "metadata": {
    "ExecuteTime": {
     "end_time": "2021-03-11T12:19:19.851052Z",
     "start_time": "2021-03-11T12:19:19.847061Z"
    }
   },
   "outputs": [],
   "source": [
    "applications_columns = [\"Timestamp\", \"Telegram ID\", \"Telegram Handle\", \"Telegram Display Name\",\n",
    "                     \"Assignment Code\", \"Level of Study\", \"Occupation\", \"Experiences\",\n",
    "                     \"Rates\", \"Timing\", \"Remarks\", \"Notification\",\n",
    "                     \"Tutor ID\", \"Job Poster Telegram Handle\", \"Job Poster Telegram ID\", \n",
    "                     \"Job Poster Display Name\", \"SAVEPROFILE?\", \"Gender\"]"
   ]
  },
  {
   "cell_type": "code",
   "execution_count": 48,
   "metadata": {
    "ExecuteTime": {
     "end_time": "2021-03-11T13:29:26.255978Z",
     "start_time": "2021-03-11T13:29:18.151614Z"
    }
   },
   "outputs": [],
   "source": [
    "assignment_filename = 'Tuition Match Bot Spreadsheet I.xlsx'\n",
    "assignment_filename2 = 'Tuition Match Bot Spreadsheet II.xlsx'\n",
    "\n",
    "xlsx = pd.ExcelFile(assignment_filename)\n",
    "xlsx2 = pd.ExcelFile(assignment_filename2)\n",
    "\n",
    "applications1 = pd.read_excel(xlsx, sheet_name='Sheet2', names=applications_columns)\n",
    "applications2 = pd.read_excel(xlsx2, sheet_name='Sheet2', names=applications_columns)"
   ]
  },
  {
   "cell_type": "code",
   "execution_count": 49,
   "metadata": {
    "ExecuteTime": {
     "end_time": "2021-03-11T13:29:29.183374Z",
     "start_time": "2021-03-11T13:29:27.042380Z"
    }
   },
   "outputs": [],
   "source": [
    "applications = pd.concat([applications1, applications2], axis = 0)\n",
    "applications.to_csv(\"sgT applications2019-2020.csv\")"
   ]
  },
  {
   "cell_type": "code",
   "execution_count": 50,
   "metadata": {
    "ExecuteTime": {
     "end_time": "2021-03-11T13:29:29.793885Z",
     "start_time": "2021-03-11T13:29:29.778886Z"
    }
   },
   "outputs": [],
   "source": [
    "applications['Timestamp'] = pd.to_datetime(applications['Timestamp'])\n",
    "applications.set_index(['Timestamp'], inplace = True)"
   ]
  },
  {
   "cell_type": "code",
   "execution_count": 51,
   "metadata": {
    "ExecuteTime": {
     "end_time": "2021-03-11T13:29:30.722190Z",
     "start_time": "2021-03-11T13:29:30.695261Z"
    }
   },
   "outputs": [
    {
     "data": {
      "text/html": [
       "<div>\n",
       "<style scoped>\n",
       "    .dataframe tbody tr th:only-of-type {\n",
       "        vertical-align: middle;\n",
       "    }\n",
       "\n",
       "    .dataframe tbody tr th {\n",
       "        vertical-align: top;\n",
       "    }\n",
       "\n",
       "    .dataframe thead th {\n",
       "        text-align: right;\n",
       "    }\n",
       "</style>\n",
       "<table border=\"1\" class=\"dataframe\">\n",
       "  <thead>\n",
       "    <tr style=\"text-align: right;\">\n",
       "      <th></th>\n",
       "      <th>Telegram ID</th>\n",
       "      <th>Telegram Handle</th>\n",
       "      <th>Telegram Display Name</th>\n",
       "      <th>Assignment Code</th>\n",
       "      <th>Level of Study</th>\n",
       "      <th>Occupation</th>\n",
       "      <th>Experiences</th>\n",
       "      <th>Rates</th>\n",
       "      <th>Timing</th>\n",
       "      <th>Remarks</th>\n",
       "      <th>Notification</th>\n",
       "      <th>Tutor ID</th>\n",
       "      <th>Job Poster Telegram Handle</th>\n",
       "      <th>Job Poster Telegram ID</th>\n",
       "      <th>Job Poster Display Name</th>\n",
       "      <th>SAVEPROFILE?</th>\n",
       "      <th>Gender</th>\n",
       "    </tr>\n",
       "    <tr>\n",
       "      <th>Timestamp</th>\n",
       "      <th></th>\n",
       "      <th></th>\n",
       "      <th></th>\n",
       "      <th></th>\n",
       "      <th></th>\n",
       "      <th></th>\n",
       "      <th></th>\n",
       "      <th></th>\n",
       "      <th></th>\n",
       "      <th></th>\n",
       "      <th></th>\n",
       "      <th></th>\n",
       "      <th></th>\n",
       "      <th></th>\n",
       "      <th></th>\n",
       "      <th></th>\n",
       "      <th></th>\n",
       "    </tr>\n",
       "  </thead>\n",
       "  <tbody>\n",
       "    <tr>\n",
       "      <th>2018-12-20 20:07:56</th>\n",
       "      <td>412848214.0</td>\n",
       "      <td>Audrinaa</td>\n",
       "      <td>Audrina</td>\n",
       "      <td>SG00003</td>\n",
       "      <td>A levels, currently waiting for A level results</td>\n",
       "      <td>Part time tutor</td>\n",
       "      <td>Ex Student’s resume: Audrina is a very patient...</td>\n",
       "      <td>$20/h</td>\n",
       "      <td>Thursday 7.30pm-9.30pm</td>\n",
       "      <td>•Gender: female\\n•Race: chinese\\n•Comfortable ...</td>\n",
       "      <td>Notified</td>\n",
       "      <td>SG00003-2</td>\n",
       "      <td>dfgngn</td>\n",
       "      <td>309846240.0</td>\n",
       "      <td>K</td>\n",
       "      <td>SAVEPROFILE</td>\n",
       "      <td>Prefer not to say</td>\n",
       "    </tr>\n",
       "    <tr>\n",
       "      <th>2018-12-20 20:30:14</th>\n",
       "      <td>511464158.0</td>\n",
       "      <td>rizhaow</td>\n",
       "      <td>Ri Zhao</td>\n",
       "      <td>SG00002</td>\n",
       "      <td>A levels</td>\n",
       "      <td>Software developer</td>\n",
       "      <td>Biology tutor for 2 years</td>\n",
       "      <td>$40/h</td>\n",
       "      <td>Anytime</td>\n",
       "      <td>Nil</td>\n",
       "      <td>Notified</td>\n",
       "      <td>SG00002-3</td>\n",
       "      <td>dfgngn</td>\n",
       "      <td>309846240.0</td>\n",
       "      <td>K</td>\n",
       "      <td>SAVEPROFILE</td>\n",
       "      <td>Prefer not to say</td>\n",
       "    </tr>\n",
       "    <tr>\n",
       "      <th>2018-12-20 21:59:15</th>\n",
       "      <td>671294341.0</td>\n",
       "      <td>ZhenHeLim</td>\n",
       "      <td>Zhen He</td>\n",
       "      <td>SG00002</td>\n",
       "      <td>Bachelor of Engineering</td>\n",
       "      <td>Undergraduate student</td>\n",
       "      <td>I have years of experiences teaching JC studen...</td>\n",
       "      <td>$60/h</td>\n",
       "      <td>Monday 2-4PM</td>\n",
       "      <td>NIL</td>\n",
       "      <td>Notified</td>\n",
       "      <td>SG00002-4</td>\n",
       "      <td>dfgngn</td>\n",
       "      <td>309846240.0</td>\n",
       "      <td>K</td>\n",
       "      <td>SAVEPROFILE</td>\n",
       "      <td>Prefer not to say</td>\n",
       "    </tr>\n",
       "    <tr>\n",
       "      <th>2018-12-20 23:33:07</th>\n",
       "      <td>41449692.0</td>\n",
       "      <td>xuanz</td>\n",
       "      <td>xuan</td>\n",
       "      <td>SG00002</td>\n",
       "      <td>Undergraduate</td>\n",
       "      <td>Undergraduate student</td>\n",
       "      <td>Has volunteered in peer tutoring, am currently...</td>\n",
       "      <td>$40/h</td>\n",
       "      <td>Negotiable</td>\n",
       "      <td>Comfortable with tuition location. Lives in Th...</td>\n",
       "      <td>Notified</td>\n",
       "      <td>SG00002-5</td>\n",
       "      <td>dfgngn</td>\n",
       "      <td>309846240.0</td>\n",
       "      <td>K</td>\n",
       "      <td>SAVEPROFILE</td>\n",
       "      <td>Prefer not to say</td>\n",
       "    </tr>\n",
       "    <tr>\n",
       "      <th>2018-12-20 23:49:01</th>\n",
       "      <td>607243377.0</td>\n",
       "      <td>NIL</td>\n",
       "      <td>Alicia</td>\n",
       "      <td>SG00003</td>\n",
       "      <td>A levels (Hwa Chong Institution)</td>\n",
       "      <td>Waiting for A level results</td>\n",
       "      <td>This would be my first time giving formal tuit...</td>\n",
       "      <td>$30/h</td>\n",
       "      <td>Thursdays 7-9pm is possible</td>\n",
       "      <td>• A* for PSLE English, A2 for O level English\\...</td>\n",
       "      <td>Notified</td>\n",
       "      <td>SG00003-6</td>\n",
       "      <td>dfgngn</td>\n",
       "      <td>309846240.0</td>\n",
       "      <td>K</td>\n",
       "      <td>NaN</td>\n",
       "      <td>Prefer not to say</td>\n",
       "    </tr>\n",
       "    <tr>\n",
       "      <th>...</th>\n",
       "      <td>...</td>\n",
       "      <td>...</td>\n",
       "      <td>...</td>\n",
       "      <td>...</td>\n",
       "      <td>...</td>\n",
       "      <td>...</td>\n",
       "      <td>...</td>\n",
       "      <td>...</td>\n",
       "      <td>...</td>\n",
       "      <td>...</td>\n",
       "      <td>...</td>\n",
       "      <td>...</td>\n",
       "      <td>...</td>\n",
       "      <td>...</td>\n",
       "      <td>...</td>\n",
       "      <td>...</td>\n",
       "      <td>...</td>\n",
       "    </tr>\n",
       "    <tr>\n",
       "      <th>2019-12-31 21:12:16</th>\n",
       "      <td>254333278.0</td>\n",
       "      <td>donyeo</td>\n",
       "      <td>Don</td>\n",
       "      <td>SG05537</td>\n",
       "      <td>Diploma in Aerospace Electronics, Ngee Ann Poly</td>\n",
       "      <td>Undergraduate student</td>\n",
       "      <td>- Will be studying @ SIT Aerospace​ Engineerin...</td>\n",
       "      <td>$35/h</td>\n",
       "      <td>Parents can suggest</td>\n",
       "      <td>I stay very near their place.</td>\n",
       "      <td>Notified</td>\n",
       "      <td>SG05537-31763</td>\n",
       "      <td>aloyswift</td>\n",
       "      <td>108710839.0</td>\n",
       "      <td>Aloy</td>\n",
       "      <td>SAVEPROFILE</td>\n",
       "      <td>Male</td>\n",
       "    </tr>\n",
       "    <tr>\n",
       "      <th>2019-12-31 21:14:33</th>\n",
       "      <td>417694919.0</td>\n",
       "      <td>jxxnna</td>\n",
       "      <td>joanna</td>\n",
       "      <td>SG05530</td>\n",
       "      <td>A Levels</td>\n",
       "      <td>Undergraduate student</td>\n",
       "      <td>I have taught upper primary Math, and am curre...</td>\n",
       "      <td>$20/h</td>\n",
       "      <td>Any time</td>\n",
       "      <td>I stay in admiralty</td>\n",
       "      <td>Notified</td>\n",
       "      <td>SG05530-31764</td>\n",
       "      <td>Ashleyzh</td>\n",
       "      <td>737769318.0</td>\n",
       "      <td>Ashley</td>\n",
       "      <td>SAVEPROFILE</td>\n",
       "      <td>Female</td>\n",
       "    </tr>\n",
       "    <tr>\n",
       "      <th>2019-12-31 21:15:15</th>\n",
       "      <td>227723488.0</td>\n",
       "      <td>NIL</td>\n",
       "      <td>Eva</td>\n",
       "      <td>SG05537</td>\n",
       "      <td>BA( Hons) Business Management</td>\n",
       "      <td>Full-time tutor</td>\n",
       "      <td>Subjects: English, Literature, History, Social...</td>\n",
       "      <td>$40/h</td>\n",
       "      <td>Weekdays only</td>\n",
       "      <td>Full-time tutor with 6 years of experience</td>\n",
       "      <td>Notified</td>\n",
       "      <td>SG05537-31765</td>\n",
       "      <td>aloyswift</td>\n",
       "      <td>108710839.0</td>\n",
       "      <td>Aloy</td>\n",
       "      <td>SAVEPROFILE</td>\n",
       "      <td>Female</td>\n",
       "    </tr>\n",
       "    <tr>\n",
       "      <th>2019-12-31 21:49:24</th>\n",
       "      <td>221216874.0</td>\n",
       "      <td>mdkbmi</td>\n",
       "      <td>Danish</td>\n",
       "      <td>SG05497</td>\n",
       "      <td>NTU EEE Undergrad (beginning AY20), took A Lev...</td>\n",
       "      <td>On internship, part-time tutor</td>\n",
       "      <td>Taught 2 JC2 students H1 and H2 Physics over t...</td>\n",
       "      <td>$40/h</td>\n",
       "      <td>Weekend 11-2.30pm at Bukit Panjang</td>\n",
       "      <td>- Scored A1 for E Math in 2015\\n- Have relevan...</td>\n",
       "      <td>Notified</td>\n",
       "      <td>SG05497-31766</td>\n",
       "      <td>NIL</td>\n",
       "      <td>811288958.0</td>\n",
       "      <td>Stag</td>\n",
       "      <td>SAVEPROFILE</td>\n",
       "      <td>Male</td>\n",
       "    </tr>\n",
       "    <tr>\n",
       "      <th>2019-12-31 22:32:37</th>\n",
       "      <td>188248646.0</td>\n",
       "      <td>m_xyn</td>\n",
       "      <td>maxyn</td>\n",
       "      <td>SG05528</td>\n",
       "      <td>A levels</td>\n",
       "      <td>GrabHitch educator</td>\n",
       "      <td>No experience</td>\n",
       "      <td>$30/h</td>\n",
       "      <td>Weekends</td>\n",
       "      <td>Just graduated from Raffles Institution and ob...</td>\n",
       "      <td>Rejected</td>\n",
       "      <td>SG05528-31767</td>\n",
       "      <td>DanielATAT</td>\n",
       "      <td>197046176.0</td>\n",
       "      <td>YX Daniel</td>\n",
       "      <td>SAVEPROFILE</td>\n",
       "      <td>Female</td>\n",
       "    </tr>\n",
       "  </tbody>\n",
       "</table>\n",
       "<p>31766 rows × 17 columns</p>\n",
       "</div>"
      ],
      "text/plain": [
       "                     Telegram ID Telegram Handle Telegram Display Name  \\\n",
       "Timestamp                                                                \n",
       "2018-12-20 20:07:56  412848214.0        Audrinaa               Audrina   \n",
       "2018-12-20 20:30:14  511464158.0         rizhaow               Ri Zhao   \n",
       "2018-12-20 21:59:15  671294341.0       ZhenHeLim               Zhen He   \n",
       "2018-12-20 23:33:07   41449692.0           xuanz                  xuan   \n",
       "2018-12-20 23:49:01  607243377.0             NIL                Alicia   \n",
       "...                          ...             ...                   ...   \n",
       "2019-12-31 21:12:16  254333278.0          donyeo                   Don   \n",
       "2019-12-31 21:14:33  417694919.0          jxxnna                joanna   \n",
       "2019-12-31 21:15:15  227723488.0             NIL                   Eva   \n",
       "2019-12-31 21:49:24  221216874.0          mdkbmi                Danish   \n",
       "2019-12-31 22:32:37  188248646.0           m_xyn                 maxyn   \n",
       "\n",
       "                    Assignment Code  \\\n",
       "Timestamp                             \n",
       "2018-12-20 20:07:56         SG00003   \n",
       "2018-12-20 20:30:14         SG00002   \n",
       "2018-12-20 21:59:15         SG00002   \n",
       "2018-12-20 23:33:07         SG00002   \n",
       "2018-12-20 23:49:01         SG00003   \n",
       "...                             ...   \n",
       "2019-12-31 21:12:16         SG05537   \n",
       "2019-12-31 21:14:33         SG05530   \n",
       "2019-12-31 21:15:15         SG05537   \n",
       "2019-12-31 21:49:24         SG05497   \n",
       "2019-12-31 22:32:37         SG05528   \n",
       "\n",
       "                                                        Level of Study  \\\n",
       "Timestamp                                                                \n",
       "2018-12-20 20:07:56    A levels, currently waiting for A level results   \n",
       "2018-12-20 20:30:14                                           A levels   \n",
       "2018-12-20 21:59:15                            Bachelor of Engineering   \n",
       "2018-12-20 23:33:07                                      Undergraduate   \n",
       "2018-12-20 23:49:01                   A levels (Hwa Chong Institution)   \n",
       "...                                                                ...   \n",
       "2019-12-31 21:12:16    Diploma in Aerospace Electronics, Ngee Ann Poly   \n",
       "2019-12-31 21:14:33                                           A Levels   \n",
       "2019-12-31 21:15:15                      BA( Hons) Business Management   \n",
       "2019-12-31 21:49:24  NTU EEE Undergrad (beginning AY20), took A Lev...   \n",
       "2019-12-31 22:32:37                                           A levels   \n",
       "\n",
       "                                         Occupation  \\\n",
       "Timestamp                                             \n",
       "2018-12-20 20:07:56                 Part time tutor   \n",
       "2018-12-20 20:30:14              Software developer   \n",
       "2018-12-20 21:59:15           Undergraduate student   \n",
       "2018-12-20 23:33:07           Undergraduate student   \n",
       "2018-12-20 23:49:01     Waiting for A level results   \n",
       "...                                             ...   \n",
       "2019-12-31 21:12:16           Undergraduate student   \n",
       "2019-12-31 21:14:33           Undergraduate student   \n",
       "2019-12-31 21:15:15                 Full-time tutor   \n",
       "2019-12-31 21:49:24  On internship, part-time tutor   \n",
       "2019-12-31 22:32:37              GrabHitch educator   \n",
       "\n",
       "                                                           Experiences  Rates  \\\n",
       "Timestamp                                                                       \n",
       "2018-12-20 20:07:56  Ex Student’s resume: Audrina is a very patient...  $20/h   \n",
       "2018-12-20 20:30:14                          Biology tutor for 2 years  $40/h   \n",
       "2018-12-20 21:59:15  I have years of experiences teaching JC studen...  $60/h   \n",
       "2018-12-20 23:33:07  Has volunteered in peer tutoring, am currently...  $40/h   \n",
       "2018-12-20 23:49:01  This would be my first time giving formal tuit...  $30/h   \n",
       "...                                                                ...    ...   \n",
       "2019-12-31 21:12:16  - Will be studying @ SIT Aerospace​ Engineerin...  $35/h   \n",
       "2019-12-31 21:14:33  I have taught upper primary Math, and am curre...  $20/h   \n",
       "2019-12-31 21:15:15  Subjects: English, Literature, History, Social...  $40/h   \n",
       "2019-12-31 21:49:24  Taught 2 JC2 students H1 and H2 Physics over t...  $40/h   \n",
       "2019-12-31 22:32:37                                      No experience  $30/h   \n",
       "\n",
       "                                                 Timing  \\\n",
       "Timestamp                                                 \n",
       "2018-12-20 20:07:56              Thursday 7.30pm-9.30pm   \n",
       "2018-12-20 20:30:14                             Anytime   \n",
       "2018-12-20 21:59:15                        Monday 2-4PM   \n",
       "2018-12-20 23:33:07                          Negotiable   \n",
       "2018-12-20 23:49:01         Thursdays 7-9pm is possible   \n",
       "...                                                 ...   \n",
       "2019-12-31 21:12:16                 Parents can suggest   \n",
       "2019-12-31 21:14:33                            Any time   \n",
       "2019-12-31 21:15:15                       Weekdays only   \n",
       "2019-12-31 21:49:24  Weekend 11-2.30pm at Bukit Panjang   \n",
       "2019-12-31 22:32:37                            Weekends   \n",
       "\n",
       "                                                               Remarks  \\\n",
       "Timestamp                                                                \n",
       "2018-12-20 20:07:56  •Gender: female\\n•Race: chinese\\n•Comfortable ...   \n",
       "2018-12-20 20:30:14                                                Nil   \n",
       "2018-12-20 21:59:15                                                NIL   \n",
       "2018-12-20 23:33:07  Comfortable with tuition location. Lives in Th...   \n",
       "2018-12-20 23:49:01  • A* for PSLE English, A2 for O level English\\...   \n",
       "...                                                                ...   \n",
       "2019-12-31 21:12:16                      I stay very near their place.   \n",
       "2019-12-31 21:14:33                                I stay in admiralty   \n",
       "2019-12-31 21:15:15         Full-time tutor with 6 years of experience   \n",
       "2019-12-31 21:49:24  - Scored A1 for E Math in 2015\\n- Have relevan...   \n",
       "2019-12-31 22:32:37  Just graduated from Raffles Institution and ob...   \n",
       "\n",
       "                    Notification       Tutor ID Job Poster Telegram Handle  \\\n",
       "Timestamp                                                                    \n",
       "2018-12-20 20:07:56     Notified      SG00003-2                     dfgngn   \n",
       "2018-12-20 20:30:14     Notified      SG00002-3                     dfgngn   \n",
       "2018-12-20 21:59:15     Notified      SG00002-4                     dfgngn   \n",
       "2018-12-20 23:33:07     Notified      SG00002-5                     dfgngn   \n",
       "2018-12-20 23:49:01     Notified      SG00003-6                     dfgngn   \n",
       "...                          ...            ...                        ...   \n",
       "2019-12-31 21:12:16     Notified  SG05537-31763                  aloyswift   \n",
       "2019-12-31 21:14:33     Notified  SG05530-31764                   Ashleyzh   \n",
       "2019-12-31 21:15:15     Notified  SG05537-31765                  aloyswift   \n",
       "2019-12-31 21:49:24     Notified  SG05497-31766                        NIL   \n",
       "2019-12-31 22:32:37     Rejected  SG05528-31767                 DanielATAT   \n",
       "\n",
       "                     Job Poster Telegram ID Job Poster Display Name  \\\n",
       "Timestamp                                                             \n",
       "2018-12-20 20:07:56             309846240.0                       K   \n",
       "2018-12-20 20:30:14             309846240.0                       K   \n",
       "2018-12-20 21:59:15             309846240.0                       K   \n",
       "2018-12-20 23:33:07             309846240.0                       K   \n",
       "2018-12-20 23:49:01             309846240.0                       K   \n",
       "...                                     ...                     ...   \n",
       "2019-12-31 21:12:16             108710839.0                    Aloy   \n",
       "2019-12-31 21:14:33             737769318.0                  Ashley   \n",
       "2019-12-31 21:15:15             108710839.0                    Aloy   \n",
       "2019-12-31 21:49:24             811288958.0                    Stag   \n",
       "2019-12-31 22:32:37             197046176.0               YX Daniel   \n",
       "\n",
       "                    SAVEPROFILE?             Gender  \n",
       "Timestamp                                            \n",
       "2018-12-20 20:07:56  SAVEPROFILE  Prefer not to say  \n",
       "2018-12-20 20:30:14  SAVEPROFILE  Prefer not to say  \n",
       "2018-12-20 21:59:15  SAVEPROFILE  Prefer not to say  \n",
       "2018-12-20 23:33:07  SAVEPROFILE  Prefer not to say  \n",
       "2018-12-20 23:49:01          NaN  Prefer not to say  \n",
       "...                          ...                ...  \n",
       "2019-12-31 21:12:16  SAVEPROFILE               Male  \n",
       "2019-12-31 21:14:33  SAVEPROFILE             Female  \n",
       "2019-12-31 21:15:15  SAVEPROFILE             Female  \n",
       "2019-12-31 21:49:24  SAVEPROFILE               Male  \n",
       "2019-12-31 22:32:37  SAVEPROFILE             Female  \n",
       "\n",
       "[31766 rows x 17 columns]"
      ]
     },
     "execution_count": 51,
     "metadata": {},
     "output_type": "execute_result"
    }
   ],
   "source": [
    "applications"
   ]
  },
  {
   "cell_type": "code",
   "execution_count": 52,
   "metadata": {
    "ExecuteTime": {
     "end_time": "2021-03-11T13:29:34.190711Z",
     "start_time": "2021-03-11T13:29:34.099955Z"
    }
   },
   "outputs": [
    {
     "data": {
      "text/plain": [
       "Timestamp\n",
       "2018-12-20      5\n",
       "2018-12-21     21\n",
       "2018-12-22     23\n",
       "2018-12-23     16\n",
       "2018-12-24      5\n",
       "             ... \n",
       "2019-12-27    198\n",
       "2019-12-28    199\n",
       "2019-12-29    123\n",
       "2019-12-30     84\n",
       "2019-12-31     84\n",
       "Name: Telegram ID, Length: 377, dtype: int64"
      ]
     },
     "execution_count": 52,
     "metadata": {},
     "output_type": "execute_result"
    }
   ],
   "source": [
    "daily_applications = applications.resample('D').count()['Telegram ID']\n",
    "daily_applications"
   ]
  },
  {
   "cell_type": "code",
   "execution_count": 12,
   "metadata": {
    "ExecuteTime": {
     "end_time": "2021-03-11T12:21:00.184037Z",
     "start_time": "2021-03-11T12:21:00.176058Z"
    }
   },
   "outputs": [],
   "source": [
    "VP_datetime = \"2019-05-07 03:30:59\"\n",
    "circuitbreaker_datetime = \"2020-04-07 00:00:00\"\n",
    "\n",
    "VP_datetime = pd.to_datetime(VP_datetime)\n",
    "circuitbreaker_datetime = pd.to_datetime(circuitbreaker_datetime)\n",
    "\n",
    "daily_applications_before_VP = daily_applications.loc[:VP_datetime]\n",
    "daily_applications_after_VP = daily_applications.loc[VP_datetime:]\n",
    "\n",
    "daily_applications_before_CB = daily_applications.loc[VP_datetime:circuitbreaker_datetime]\n",
    "daily_applications_after_CB = daily_applications.loc[circuitbreaker_datetime:]"
   ]
  },
  {
   "cell_type": "code",
   "execution_count": 32,
   "metadata": {
    "ExecuteTime": {
     "end_time": "2021-03-11T12:25:31.970289Z",
     "start_time": "2021-03-11T12:25:31.774765Z"
    }
   },
   "outputs": [
    {
     "data": {
      "text/plain": [
       "Text(0.9, 0.8, 'After Circuit Breaker')"
      ]
     },
     "execution_count": 32,
     "metadata": {},
     "output_type": "execute_result"
    },
    {
     "data": {
      "image/png": "[encoded data removed]",
      "text/plain": [
       "<Figure size 1152x648 with 1 Axes>"
      ]
     },
     "metadata": {
      "needs_background": "light"
     },
     "output_type": "display_data"
    }
   ],
   "source": [
    "fig, ax = plt.subplots()\n",
    "plt.scatter(daily_applications_before_VP.index, daily_applications_before_VP, color = 'b')\n",
    "plt.scatter(daily_applications_before_CB.index, daily_applications_before_CB, color = 'g')\n",
    "plt.scatter(daily_applications_after_CB.index, daily_applications_after_CB, color = 'y')\n",
    "\n",
    "plt.vlines(VP_datetime, ymin = 0, ymax = daily_applications.max(), linestyles = '--', alpha = 0.6, color = 'r')\n",
    "plt.vlines(circuitbreaker_datetime, ymin = 0, ymax = daily_applications.max(), linestyles = '--', alpha = 0.6, color = 'r')\n",
    "\n",
    "plt.text(0.12, 0.8, \"Before VulcanPost's\\n Article\", horizontalalignment='center', va = 'bottom', transform = ax.transAxes)\n",
    "plt.text(0.5, 0.8, \"After VulcanPost's Article\", horizontalalignment='center', va = 'bottom', transform = ax.transAxes)\n",
    "plt.text(0.9, 0.8, \"After Circuit Breaker\", horizontalalignment='center', transform = ax.transAxes)"
   ]
  },
  {
   "cell_type": "code",
   "execution_count": 45,
   "metadata": {
    "ExecuteTime": {
     "end_time": "2021-03-11T12:41:32.010772Z",
     "start_time": "2021-03-11T12:41:32.002791Z"
    }
   },
   "outputs": [
    {
     "data": {
      "text/plain": [
       "Timestamp\n",
       "2018-12-20      5\n",
       "2018-12-21     21\n",
       "2018-12-22     23\n",
       "2018-12-23     16\n",
       "2018-12-24      5\n",
       "             ... \n",
       "2020-04-03    134\n",
       "2020-04-04     59\n",
       "2020-04-05     81\n",
       "2020-04-06     77\n",
       "2020-04-07    114\n",
       "Name: Telegram ID, Length: 475, dtype: int64"
      ]
     },
     "execution_count": 45,
     "metadata": {},
     "output_type": "execute_result"
    }
   ],
   "source": [
    "beforeCB_applications = daily_applications.loc[:circuitbreaker_datetime]\n",
    "beforeCB_applications"
   ]
  },
  {
   "cell_type": "code",
   "execution_count": 39,
   "metadata": {
    "ExecuteTime": {
     "end_time": "2021-03-11T12:35:06.000603Z",
     "start_time": "2021-03-11T12:35:05.909223Z"
    }
   },
   "outputs": [],
   "source": [
    "with pm.Model() as model:\n",
    "    alphas = 1.0/np.array([daily_applications_before_VP.mean(), daily_applications_before_CB.mean()])\n",
    "    lambdas = pm.Exponential(\"lambdas\", lam = alphas, shape = 2)\n",
    "    \n",
    "    tau = pm.DiscreteUniform(\"tau\", lower=0, upper=len(beforeCB_applications) - 1)"
   ]
  },
  {
   "cell_type": "code",
   "execution_count": 40,
   "metadata": {
    "ExecuteTime": {
     "end_time": "2021-03-11T12:35:07.215622Z",
     "start_time": "2021-03-11T12:35:07.205649Z"
    }
   },
   "outputs": [],
   "source": [
    "with model:\n",
    "    idx = np.arange(len(beforeCB_applications)) # Index\n",
    "    lambda_ = pm.math.switch(tau > idx, lambdas[0], lambdas[1])"
   ]
  },
  {
   "cell_type": "code",
   "execution_count": 41,
   "metadata": {
    "ExecuteTime": {
     "end_time": "2021-03-11T12:35:08.381921Z",
     "start_time": "2021-03-11T12:35:08.296129Z"
    }
   },
   "outputs": [],
   "source": [
    "with model:\n",
    "    observation = pm.Poisson(\"obs\", lambda_, observed=beforeCB_applications)"
   ]
  },
  {
   "cell_type": "code",
   "execution_count": 42,
   "metadata": {
    "ExecuteTime": {
     "end_time": "2021-03-11T12:40:58.907379Z",
     "start_time": "2021-03-11T12:35:09.541126Z"
    }
   },
   "outputs": [
    {
     "name": "stderr",
     "output_type": "stream",
     "text": [
      "C:\\Users\\jymch\\anaconda3\\lib\\site-packages\\pymc3\\sampling.py:469: FutureWarning: In an upcoming release, pm.sample will return an `arviz.InferenceData` object instead of a `MultiTrace` by default. You can pass return_inferencedata=True or return_inferencedata=False to be safe and silence this warning.\n",
      "  FutureWarning,\n",
      "Multiprocess sampling (4 chains in 4 jobs)\n",
      "CompoundStep\n",
      ">Metropolis: [tau]\n",
      ">Metropolis: [lambdas]\n"
     ]
    },
    {
     "data": {
      "text/html": [
       "\n",
       "    <div>\n",
       "        <style>\n",
       "            /* Turns off some styling */\n",
       "            progress {\n",
       "                /* gets rid of default border in Firefox and Opera. */\n",
       "                border: none;\n",
       "                /* Needs to be in here for Safari polyfill so background images work as expected. */\n",
       "                background-size: auto;\n",
       "            }\n",
       "            .progress-bar-interrupted, .progress-bar-interrupted::-webkit-progress-bar {\n",
       "                background: #F44336;\n",
       "            }\n",
       "        </style>\n",
       "      <progress value='6000' class='' max='6000' style='width:300px; height:20px; vertical-align: middle;'></progress>\n",
       "      100.00% [6000/6000 03:46<00:00 Sampling 4 chains, 0 divergences]\n",
       "    </div>\n",
       "    "
      ],
      "text/plain": [
       "<IPython.core.display.HTML object>"
      ]
     },
     "metadata": {},
     "output_type": "display_data"
    },
    {
     "name": "stderr",
     "output_type": "stream",
     "text": [
      "Sampling 4 chains for 500 tune and 1_000 draw iterations (2_000 + 4_000 draws total) took 242 seconds.\n",
      "The rhat statistic is larger than 1.4 for some parameters. The sampler did not converge.\n",
      "The estimated number of effective samples is smaller than 200 for some parameters.\n"
     ]
    }
   ],
   "source": [
    "with model:\n",
    "    step = pm.Metropolis()\n",
    "    trace = pm.sample(1000, tune=500,step=step)"
   ]
  },
  {
   "cell_type": "code",
   "execution_count": 43,
   "metadata": {
    "ExecuteTime": {
     "end_time": "2021-03-11T12:41:03.994900Z",
     "start_time": "2021-03-11T12:41:03.989915Z"
    }
   },
   "outputs": [
    {
     "data": {
      "text/plain": [
       "array([227, 227, 227, ..., 214, 214, 214], dtype=int64)"
      ]
     },
     "execution_count": 43,
     "metadata": {},
     "output_type": "execute_result"
    }
   ],
   "source": [
    "trace['tau']"
   ]
  },
  {
   "cell_type": "code",
   "execution_count": 44,
   "metadata": {
    "ExecuteTime": {
     "end_time": "2021-03-11T12:41:08.190338Z",
     "start_time": "2021-03-11T12:41:08.019100Z"
    }
   },
   "outputs": [
    {
     "data": {
      "text/plain": [
       "<matplotlib.legend.Legend at 0x25adea99788>"
      ]
     },
     "execution_count": 44,
     "metadata": {},
     "output_type": "execute_result"
    },
    {
     "data": {
      "image/png": "[encoded data removed]",
      "text/plain": [
       "<Figure size 1152x648 with 1 Axes>"
      ]
     },
     "metadata": {
      "needs_background": "light"
     },
     "output_type": "display_data"
    }
   ],
   "source": [
    "plt.plot(trace['lambdas'][:,0], label = 'lambda1')\n",
    "plt.plot(trace['lambdas'][:,1], label = 'lambda2')\n",
    "plt.plot(trace['tau'], label = 'tau')\n",
    "plt.legend()"
   ]
  },
  {
   "cell_type": "code",
   "execution_count": 46,
   "metadata": {
    "ExecuteTime": {
     "end_time": "2021-03-11T12:43:55.207562Z",
     "start_time": "2021-03-11T12:43:55.062950Z"
    }
   },
   "outputs": [
    {
     "data": {
      "text/plain": [
       "(array([106., 740., 255., 304., 116.,  32.,   5.,  11.,   0.,  17.,   0.,\n",
       "          2.,  22.,   0., 103., 138., 965., 820., 102.,  21.,   0.,   0.,\n",
       "          2.,   0.,   0.,  31.,  24., 100.,  39.,  45.]),\n",
       " array([56.45487137, 56.98446977, 57.51406816, 58.04366655, 58.57326494,\n",
       "        59.10286333, 59.63246172, 60.16206011, 60.6916585 , 61.22125689,\n",
       "        61.75085528, 62.28045367, 62.81005207, 63.33965046, 63.86924885,\n",
       "        64.39884724, 64.92844563, 65.45804402, 65.98764241, 66.5172408 ,\n",
       "        67.04683919, 67.57643758, 68.10603598, 68.63563437, 69.16523276,\n",
       "        69.69483115, 70.22442954, 70.75402793, 71.28362632, 71.81322471,\n",
       "        72.3428231 ]),\n",
       " <a list of 1 Patch objects>)"
      ]
     },
     "execution_count": 46,
     "metadata": {},
     "output_type": "execute_result"
    },
    {
     "data": {
      "image/png": "[encoded data removed]",
      "text/plain": [
       "<Figure size 720x432 with 1 Axes>"
      ]
     },
     "metadata": {
      "needs_background": "light"
     },
     "output_type": "display_data"
    }
   ],
   "source": [
    "lambda_1_samples = trace['lambdas'][:,0]\n",
    "plt.figure(figsize = (10,6))\n",
    "plt.hist(lambda_1_samples, histtype='stepfilled', bins=30, alpha=0.85,\n",
    "         label=\"posterior of $\\lambda_1$\", color=\"#A60628\")"
   ]
  },
  {
   "cell_type": "code",
   "execution_count": 47,
   "metadata": {
    "ExecuteTime": {
     "end_time": "2021-03-11T12:43:59.339581Z",
     "start_time": "2021-03-11T12:43:59.211918Z"
    }
   },
   "outputs": [
    {
     "data": {
      "text/plain": [
       "(array([ 11.,   0.,   0.,   0.,   8.,   9.,  65.,  62.,  90., 326., 388.,\n",
       "        899., 399., 608., 318., 307., 250., 151.,  63.,  23.,   8.,   0.,\n",
       "          0.,   0.,   0.,   0.,   0.,   0.,   0.,  15.]),\n",
       " array([126.24280881, 126.50629663, 126.76978444, 127.03327225,\n",
       "        127.29676006, 127.56024787, 127.82373568, 128.08722349,\n",
       "        128.35071131, 128.61419912, 128.87768693, 129.14117474,\n",
       "        129.40466255, 129.66815036, 129.93163817, 130.19512599,\n",
       "        130.4586138 , 130.72210161, 130.98558942, 131.24907723,\n",
       "        131.51256504, 131.77605285, 132.03954067, 132.30302848,\n",
       "        132.56651629, 132.8300041 , 133.09349191, 133.35697972,\n",
       "        133.62046753, 133.88395535, 134.14744316]),\n",
       " <a list of 1 Patch objects>)"
      ]
     },
     "execution_count": 47,
     "metadata": {},
     "output_type": "execute_result"
    },
    {
     "data": {
      "image/png": "[encoded data removed]",
      "text/plain": [
       "<Figure size 720x432 with 1 Axes>"
      ]
     },
     "metadata": {
      "needs_background": "light"
     },
     "output_type": "display_data"
    }
   ],
   "source": [
    "lambda_2_samples = trace['lambdas'][:,1]\n",
    "plt.figure(figsize = (10,6))\n",
    "plt.hist(lambda_2_samples, histtype='stepfilled', bins=30, alpha=0.85,\n",
    "         label=\"posterior of $\\lambda_2$\", color=\"#A60628\")"
   ]
  },
  {
   "cell_type": "code",
   "execution_count": null,
   "metadata": {
    "ExecuteTime": {
     "end_time": "2021-03-11T11:29:54.578495Z",
     "start_time": "2021-03-11T11:29:54.561542Z"
    }
   },
   "outputs": [],
   "source": []
  },
  {
   "cell_type": "code",
   "execution_count": null,
   "metadata": {},
   "outputs": [],
   "source": []
  }
 ],
 "metadata": {
  "kernelspec": {
   "display_name": "Python 3",
   "language": "python",
   "name": "python3"
  },
  "language_info": {
   "codemirror_mode": {
    "name": "ipython",
    "version": 3
   },
   "file_extension": ".py",
   "mimetype": "text/x-python",
   "name": "python",
   "nbconvert_exporter": "python",
   "pygments_lexer": "ipython3",
   "version": "3.7.7"
  }
 },
 "nbformat": 4,
 "nbformat_minor": 4
}
